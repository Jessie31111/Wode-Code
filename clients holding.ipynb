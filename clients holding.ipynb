{
 "cells": [
  {
   "cell_type": "code",
   "execution_count": 24,
   "metadata": {},
   "outputs": [],
   "source": [
    "class Client:\n",
    "    def __init__(self, name, sod_holdings):\n",
    "        self.name = name\n",
    "        self.accumulated_buy = 0\n",
    "        self.accumulated_sell = 0\n",
    "        self.holdings = sod_holdings\n",
    "        self.holding_change = [sod_holdings]\n",
    "\n",
    "    def buy(self, amount):\n",
    "        self.accumulated_buy += amount\n",
    "        self.holdings += amount\n",
    "        self.holding_change.append(self.holdings)\n",
    "\n",
    "    def sell(self, amount):\n",
    "        self.accumulated_sell += amount\n",
    "        self.holdings -= amount\n",
    "        self.holding_change.append(self.holdings)\n",
    "\n",
    "    def check_turnaround(self):\n",
    "        \n",
    "        return (self.accumulated_buy + self.accumulated_sell) < 8 * max(self.holding_change)\n",
    "    \n"
   ]
  },
  {
   "cell_type": "code",
   "execution_count": 16,
   "metadata": {},
   "outputs": [
    {
     "name": "stdout",
     "output_type": "stream",
     "text": [
      "False False\n"
     ]
    }
   ],
   "source": [
    "client1 = Client(\"A\", sod_holdings=0)\n",
    "client2 = Client(\"B\", sod_holdings=0)\n",
    "\n",
    "# Perform buying and selling transactions\n",
    "client1.buy(20)\n",
    "client1.sell(20)\n",
    "client1.buy(20)\n",
    "client1.sell(20)\n",
    "client1.buy(20)\n",
    "client1.sell(20)\n",
    "client1.buy(20)\n",
    "client1.sell(20)\n",
    "# Check the rules for each client\n",
    "rule1_passed = client1.check_turnaround()\n",
    "rule2_passed = client2.check_turnaround()\n",
    "print(rule1_passed, rule2_passed)  "
   ]
  },
  {
   "cell_type": "code",
   "execution_count": 36,
   "metadata": {},
   "outputs": [
    {
     "name": "stdout",
     "output_type": "stream",
     "text": [
      "for client Client0 sell 4\n",
      "for client Client2 sell 1\n",
      "for client Client4 buy 2\n",
      "for client Client7 sell 15\n",
      "for client Client9 buy 3\n"
     ]
    }
   ],
   "source": [
    "\n",
    "import random\n",
    "clients = []\n",
    "active_clients = []\n",
    "for i in range(10):\n",
    "    client = Client(\"Client\"+str(i), sod_holdings=0)\n",
    "    clients.append(client)\n",
    "    active_clients.append(client)\n",
    "    \n",
    "accumulated_buy = 0\n",
    "accumulated_sell = 0\n",
    "all_client_holding = [sum([client.holding_change[0] for client in clients])]\n",
    "for i in range(100): # say 100 round\n",
    "    for client in active_clients:\n",
    "        action = random.choice([\"buy\", \"sell\", \"No action\"])\n",
    "        amount = random.randint(1, 20)\n",
    "        if action == \"buy\":\n",
    "            client.buy(amount)\n",
    "            accumulated_buy += amount\n",
    "            print (\"for client\", client.name, \"buy\", amount)\n",
    "        else:\n",
    "            if action == \"sell\":\n",
    "                client.sell(amount)\n",
    "                accumulated_sell += amount\n",
    "                print (\"for client\", client.name, \"sell\", amount)\n",
    "        if not client.check_turnaround():\n",
    "            active_clients.remove(client) # client is inactive for rest of the day\n",
    "\n",
    "    all_client_holding.append(sum([client.holding_change[-1] for client in clients]))\n",
    "    \n",
    "    \n",
    "    break\n"
   ]
  },
  {
   "cell_type": "code",
   "execution_count": 40,
   "metadata": {},
   "outputs": [
    {
     "name": "stdout",
     "output_type": "stream",
     "text": [
      "[0, -15]\n",
      "[[0, -4], [0], [0, -1], [0], [0, 2], [0], [0], [0, -15], [0], [0, 3]]\n",
      "['Client1', 'Client3', 'Client4', 'Client6', 'Client8', 'Client9']\n"
     ]
    }
   ],
   "source": [
    "print(all_client_holding)\n",
    "print([client.holding_change for client in clients])\n",
    "print([client.name for client in active_clients])"
   ]
  }
 ],
 "metadata": {
  "kernelspec": {
   "display_name": "base",
   "language": "python",
   "name": "python3"
  },
  "language_info": {
   "codemirror_mode": {
    "name": "ipython",
    "version": 3
   },
   "file_extension": ".py",
   "mimetype": "text/x-python",
   "name": "python",
   "nbconvert_exporter": "python",
   "pygments_lexer": "ipython3",
   "version": "3.9.7"
  }
 },
 "nbformat": 4,
 "nbformat_minor": 2
}
